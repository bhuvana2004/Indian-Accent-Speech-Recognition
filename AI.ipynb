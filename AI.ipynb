{
  "cells": [
    {
      "cell_type": "markdown",
      "metadata": {
        "id": "view-in-github",
        "colab_type": "text"
      },
      "source": [
        "<a href=\"https://colab.research.google.com/github/bhuvana2004/Indian-Accent-Speech-Recognition/blob/master/AI.ipynb\" target=\"_parent\"><img src=\"https://colab.research.google.com/assets/colab-badge.svg\" alt=\"Open In Colab\"/></a>"
      ]
    },
    {
      "cell_type": "markdown",
      "metadata": {
        "id": "ObtU_Hibviu_"
      },
      "source": [
        "# Iterative deepening search"
      ]
    },
    {
      "cell_type": "code",
      "execution_count": null,
      "metadata": {
        "colab": {
          "base_uri": "https://localhost:8080/"
        },
        "id": "mLbYgauG_m6l",
        "outputId": "c164cc2f-6953-445f-9b23-ca69992dd1c5"
      },
      "outputs": [
        {
          "name": "stdout",
          "output_type": "stream",
          "text": [
            "{'S': ['2', '6'], '2': ['S', '3'], '3': ['2', '8'], 'G': ['10'], '6': ['S', '11'], '8': ['3', '13'], '10': ['G', '15'], '11': ['6', '12'], '12': ['11', '13', '17'], '13': ['8', '12'], '15': ['10', '20'], '17': ['12', '22'], '19': ['20', '24'], '20': ['15', '19'], '21': ['22'], '22': ['17', '21', '23'], '23': ['22', '24'], '24': ['19', '23']}\n",
            "Starting a dls from S\n",
            "Goal Node Found\n",
            "['S', '6', '11', '12', '17', '22', '23', '24', '19', '20', '15', '10', 'G']\n",
            "True\n",
            "None\n"
          ]
        }
      ],
      "source": [
        "#iterative deepening search\n",
        "ADJ={}\n",
        "#ADJ={ 'S':['2','6'] , '2':['5','3'] ,'3':['2','8'],'G':['10'],'6':['S','11'],'8':['3','13'],'10':['G','15'],'11':['6','12'],'12':['11','13','17'],'13':['8','12'],'15':['10','20'],'17':['12','22'],'19':['20','24'],'20':['15','19'],'21':['22'],''}\n",
        "ADJ['S'] = ['2', '6']\n",
        "ADJ['2'] = ['S', '3']\n",
        "ADJ['3'] = ['2','8']\n",
        "ADJ['G'] = ['10']\n",
        "ADJ['6'] = ['S', '11']\n",
        "ADJ['8'] = ['3', '13']\n",
        "ADJ['10'] = ['G', '15']\n",
        "ADJ['11'] = ['6', '12']\n",
        "ADJ['12'] = ['11', '13', '17']\n",
        "ADJ['13'] = ['8', '12']\n",
        "ADJ['15'] = ['10', '20']\n",
        "ADJ['17'] = ['12','22']\n",
        "ADJ['19'] = ['20', '24']\n",
        "ADJ['20'] = ['15','19']\n",
        "ADJ['21'] = ['22']\n",
        "ADJ['22'] = ['17','21','23']\n",
        "ADJ['23'] = ['22', '24']\n",
        "ADJ['24'] = ['19','23']\n",
        "print (ADJ)\n",
        "# keep track of visited nodes\n",
        "visited = {str(i) : False for i in range(1,26)}\n",
        "visited['S'] = False\n",
        "visited['G'] = False\n",
        "#print(visited)\n",
        "def dls(start, goal):\n",
        "    depth = 0\n",
        "    limit = 12\n",
        "    OPEN=[]\n",
        "    CLOSED=[]\n",
        "    OPEN.append(start)\n",
        "    visited[\"S\"] = True\n",
        "    while OPEN != []: # Step 2\n",
        "        if depth<=limit:\n",
        "            current = OPEN.pop()\n",
        "            # visited[current] = False\n",
        "            if current == goal:\n",
        "                CLOSED.append(current)\n",
        "                print(\"Goal Node Found\")\n",
        "                print(CLOSED)\n",
        "                return True\n",
        "            else:\n",
        "                CLOSED.append(current)\n",
        "                lst = successors(current)\n",
        "                for i in lst:\n",
        "                    # try to visit a node in future, if not already been to it\n",
        "                    if(not(visited[i])):\n",
        "                        OPEN.append(i)\n",
        "                        visited[i] = True\n",
        "                depth +=1\n",
        "        else:\n",
        "            print(\"Not found within depth limit\")\n",
        "            return False\n",
        "    return False\n",
        "\n",
        "\n",
        "def successors(city):\n",
        "    return ADJ[city]\n",
        "\n",
        "def test():\n",
        "    start = 'S'\n",
        "    goal = 'G'\n",
        "    print(\"Starting a dls from \" + start)\n",
        "    print(dls(start, goal))\n",
        "\n",
        "\n",
        "print(test())"
      ]
    },
    {
      "cell_type": "code",
      "source": [
        "g={1:[2,5],2:[3,4],3:[8,9],5:[6,7],7:[10,11]}\n",
        "s=int(input('Enter source: '))\n",
        "t=int(input('Enter target: '))\n",
        "depth=int(input('Enter depth: '))\n",
        "\n",
        "def DFS(d):\n",
        "    visited=[s]\n",
        "    stack=[s]\n",
        "    check=[0]\n",
        "    while stack:\n",
        "        f=stack.pop()\n",
        "        print(f,end=' ')\n",
        "        p=check.pop()\n",
        "        if f==t:\n",
        "          print(' Target found within given depth')\n",
        "          return 1\n",
        "        if p+1>d:\n",
        "          continue\n",
        "        for neighbor in g[f]:\n",
        "            if neighbor not in visited:\n",
        "                check.append(p+1)\n",
        "                visited.append(neighbor)\n",
        "                stack.append(neighbor)\n",
        "    return 0\n",
        "\n",
        "def IDDFS():\n",
        "  for i in range(depth+1):\n",
        "    print('Depth',i,': ',end='')\n",
        "    if DFS(i):\n",
        "      break\n",
        "    print()\n",
        "\n",
        "IDDFS()"
      ],
      "metadata": {
        "colab": {
          "base_uri": "https://localhost:8080/"
        },
        "id": "n8Vufqp116-t",
        "outputId": "a3c8715b-c951-43b8-ebe2-209dd28d95f9"
      },
      "execution_count": null,
      "outputs": [
        {
          "output_type": "stream",
          "name": "stdout",
          "text": [
            "Enter source: 1\n",
            "Enter target: 7\n",
            "Enter depth: 3\n",
            "Depth 0 : 1 \n",
            "Depth 1 : 1 5 2 \n",
            "Depth 2 : 1 5 7  Target found within given depth\n"
          ]
        }
      ]
    },
    {
      "cell_type": "markdown",
      "metadata": {
        "id": "4AYPHA9Cvpz2"
      },
      "source": [
        "# Minimax"
      ]
    },
    {
      "cell_type": "code",
      "execution_count": null,
      "metadata": {
        "colab": {
          "base_uri": "https://localhost:8080/"
        },
        "id": "MxDn8s7oLjRc",
        "outputId": "8cfe47dc-ad0f-42ea-805e-a507479cd7a5"
      },
      "outputs": [
        {
          "name": "stdout",
          "output_type": "stream",
          "text": [
            "The optimal value is : 12\n"
          ]
        }
      ],
      "source": [
        "\n",
        "#minimax\n",
        "import math\n",
        "\n",
        "def minimax (curDepth, nodeIndex,maxTurn, scores,targetDepth):\n",
        "\n",
        "    # base case : targetDepth reached\n",
        "    if (curDepth == targetDepth):\n",
        "        return scores[nodeIndex]\n",
        "\n",
        "    if (maxTurn):\n",
        "        return max(minimax(curDepth + 1, nodeIndex * 2,False, scores, targetDepth),\n",
        "                   minimax(curDepth + 1, nodeIndex * 2 + 1,False, scores, targetDepth))\n",
        "\n",
        "    else:\n",
        "        return min(minimax(curDepth + 1, nodeIndex * 2,True, scores, targetDepth),\n",
        "                   minimax(curDepth + 1, nodeIndex * 2 + 1,True, scores, targetDepth))\n",
        "\n",
        "scores = [3, 5, 2, 9, 12, 5, 23, 23]\n",
        "\n",
        "treeDepth = math.log(len(scores), 2)\n",
        "\n",
        "print(\"The optimal value is : \", end = \"\")\n",
        "print(minimax(0, 0, True, scores, treeDepth))"
      ]
    },
    {
      "cell_type": "markdown",
      "source": [
        "# alpha beta pruning"
      ],
      "metadata": {
        "id": "tzoeIzDI3s1N"
      }
    },
    {
      "cell_type": "code",
      "source": [
        "MAX, MIN = 1000, -1000\n",
        "def minimax(depth, nodeIndex, maximizingPlayer,values, alpha, beta):\n",
        "    if depth == 3:\n",
        "        return values[nodeIndex]\n",
        "    if maximizingPlayer:\n",
        "        best = MIN\n",
        "        for i in range(0, 2):\n",
        "            val = minimax(depth + 1, nodeIndex * 2 + i,False, values, alpha, beta)\n",
        "            best = max(best, val)\n",
        "            alpha = max(alpha, best)\n",
        "            if beta <= alpha:\n",
        "                break\n",
        "        return best\n",
        "    else:\n",
        "        best = MAX\n",
        "        for i in range(0, 2):\n",
        "            val = minimax(depth + 1, nodeIndex * 2 + i,True, values, alpha, beta)\n",
        "            best = min(best, val)\n",
        "            beta = min(beta, best)\n",
        "            if beta <= alpha:\n",
        "                break\n",
        "        return best\n",
        "if __name__ == \"__main__\":\n",
        "    values = [3, 5, 2, 9, 12, 5, 23, 23]\n",
        "    print(\"The optimal value is :\", minimax(0, 0, True, values, MIN, MAX))\n",
        "    #print(val)"
      ],
      "metadata": {
        "colab": {
          "base_uri": "https://localhost:8080/"
        },
        "id": "pnks5wUn3ry1",
        "outputId": "4b3f8d51-c946-4347-c2eb-83de0256f398"
      },
      "execution_count": null,
      "outputs": [
        {
          "output_type": "stream",
          "name": "stdout",
          "text": [
            "The optimal value is : 12\n"
          ]
        }
      ]
    },
    {
      "cell_type": "markdown",
      "metadata": {
        "id": "6oQ6YRjJvwai"
      },
      "source": [
        "# BFS"
      ]
    },
    {
      "cell_type": "code",
      "execution_count": null,
      "metadata": {
        "colab": {
          "base_uri": "https://localhost:8080/"
        },
        "id": "NOnHgQAbvzUy",
        "outputId": "cffd1ded-a6af-4989-9d4e-437f76e0b76e"
      },
      "outputs": [
        {
          "name": "stdout",
          "output_type": "stream",
          "text": [
            "5 3 7 2 4 8 None\n"
          ]
        }
      ],
      "source": [
        "def bfs(graph,node):\n",
        "    visited=[]\n",
        "    queue=[]\n",
        "    visited.append(node)\n",
        "    queue.append(node)\n",
        "    while(queue):\n",
        "        m=queue.pop(0)\n",
        "        print(m,end=\" \")\n",
        "        for i in graph[m]:\n",
        "            if i not in visited:\n",
        "                visited.append(i)\n",
        "                queue.append(i)\n",
        "#graph={0:[1,2],1:[3],2:[3,4],3:[4],4:[0]}\n",
        "graph={'5':['3','7'],'3':['2','4'],'7':[],'4':['8'],'2':[],'8':[]}\n",
        "print(bfs(graph,'5'))"
      ]
    },
    {
      "cell_type": "markdown",
      "metadata": {
        "id": "PltFbguiv6cq"
      },
      "source": [
        "# DFS"
      ]
    },
    {
      "cell_type": "code",
      "execution_count": null,
      "metadata": {
        "colab": {
          "base_uri": "https://localhost:8080/"
        },
        "id": "1Hcih8pcv7kq",
        "outputId": "58d5c716-2d5d-4859-acfa-531f9d60cab2"
      },
      "outputs": [
        {
          "name": "stdout",
          "output_type": "stream",
          "text": [
            "5 3 2 4 8 7 None\n"
          ]
        }
      ],
      "source": [
        "def dfs(graph,node):\n",
        "    visited=set()\n",
        "    if node not in visited:\n",
        "        print(node,end=\" \")\n",
        "        visited.add(node)\n",
        "        for i in graph[node]:\n",
        "            dfs(graph,i)\n",
        "graph={'5':['3','7'],'3':['2','4'],'7':[],'4':['8'],'2':[],'8':[]}\n",
        "#graph={0:[1,2],1:[3],2:[3,4],3:[4],4:[0]}\n",
        "print(dfs(graph,'5'))"
      ]
    },
    {
      "cell_type": "markdown",
      "metadata": {
        "id": "oWZ95_MFwHov"
      },
      "source": [
        "# uniform cost search"
      ]
    },
    {
      "cell_type": "code",
      "execution_count": null,
      "metadata": {
        "colab": {
          "base_uri": "https://localhost:8080/"
        },
        "id": "RNQoGtvwwJdw",
        "outputId": "035c1377-1c69-4bdd-d1dd-732b7c63eb41"
      },
      "outputs": [
        {
          "output_type": "execute_result",
          "data": {
            "text/plain": [
              "[[0, 80, 99, 0, 0],\n",
              " [80, 0, 0, 97, 0],\n",
              " [99, 0, 0, 0, 211],\n",
              " [0, 97, 0, 0, 101],\n",
              " [0, 0, 211, 101, 0]]"
            ]
          },
          "metadata": {},
          "execution_count": 12
        }
      ],
      "source": [
        "a=[[0,80,99,0,0],[80,0,0,97,0],[99,0,0,0,211],[0,97,0,0,101],[0,0,211,101,0]]\n",
        "a"
      ]
    },
    {
      "cell_type": "code",
      "execution_count": null,
      "metadata": {
        "colab": {
          "base_uri": "https://localhost:8080/"
        },
        "id": "jnUo83sSwN0O",
        "outputId": "9235d642-080f-4c01-b134-bc3606d5436c"
      },
      "outputs": [
        {
          "name": "stdout",
          "output_type": "stream",
          "text": [
            "enter initial state0\n",
            "enter goal state4\n"
          ]
        }
      ],
      "source": [
        "inis=int(input(\"enter initial state\"))\n",
        "gs=int(input(\"enter goal state\"))"
      ]
    },
    {
      "cell_type": "code",
      "execution_count": null,
      "metadata": {
        "colab": {
          "base_uri": "https://localhost:8080/"
        },
        "id": "B-0L_m8IwS7O",
        "outputId": "ca46295a-0962-492d-c7f2-81dccb809710"
      },
      "outputs": [
        {
          "output_type": "stream",
          "name": "stdout",
          "text": [
            "[310, 278]\n",
            "278\n"
          ]
        }
      ],
      "source": [
        "def uc():\n",
        "    v=[]\n",
        "    q=[]\n",
        "    c=[]\n",
        "    ans=[]\n",
        "    q.append(inis)\n",
        "    c.append(0)\n",
        "    while(len(q)!=0):\n",
        "        j=q.pop(0)\n",
        "        k=c.pop(0)\n",
        "        if j not in v:\n",
        "            v.append(j)\n",
        "            for i in range(len(a)):\n",
        "                if(a[j][i]!=0):\n",
        "                    if(i==gs):\n",
        "                        ans.append(a[j][i]+k)\n",
        "                        continue\n",
        "                    if i not in v:\n",
        "                        q.append(i)\n",
        "                        c.append(a[j][i]+k)\n",
        "                       # print(q)\n",
        "                        #print(c)\n",
        "    m=min(ans)\n",
        "    print(ans)\n",
        "    return m\n",
        "print(uc())"
      ]
    },
    {
      "cell_type": "markdown",
      "source": [
        "# Bidirectional"
      ],
      "metadata": {
        "id": "EgIkJYfYzVlg"
      }
    },
    {
      "cell_type": "code",
      "execution_count": null,
      "metadata": {
        "colab": {
          "base_uri": "https://localhost:8080/"
        },
        "id": "fnA0wSVzxF6i",
        "outputId": "bdceb3c0-2105-49d7-eabc-20d83f9a89ac"
      },
      "outputs": [
        {
          "output_type": "stream",
          "name": "stdout",
          "text": [
            "enter edges[[1,2],[1,5],[2,3],[2,4],[3,8],[3,9],[5,6],[5,7],[7,10],[7,11]]\n",
            "defaultdict(<class 'list'>, {1: [2, 5], 2: [1, 3, 4], 5: [1, 6, 7], 3: [2, 8, 9], 4: [2], 8: [3], 9: [3], 6: [5], 7: [5, 10, 11], 10: [7], 11: [7]})\n",
            "enter start state1\n",
            "enter goal state9\n",
            "intersection node is 3\n",
            "path: [1, 2, 3, 9]\n"
          ]
        }
      ],
      "source": [
        "#bidirectional\n",
        "from collections import defaultdict\n",
        "graph=defaultdict(list)\n",
        "edges=eval(input(\"enter edges\"))\n",
        "for i in edges:\n",
        "  graph[i[0]].append(i[1])\n",
        "  graph[i[1]].append(i[0])\n",
        "print(graph)\n",
        "src=int(input(\"enter start state\"))\n",
        "go=int(input(\"enter goal state\"))\n",
        "visit_f=[src]\n",
        "visit_b=[go]\n",
        "front_f,top_f,front_b,top_b=0,0,0,0\n",
        "\n",
        "def bfs_f():\n",
        "    if src==go:\n",
        "        return src\n",
        "    global front_f,top_f;\n",
        "    while(front_f <=top_f):\n",
        "        s=visit_f[front_f]\n",
        "        for i in graph[s]:\n",
        "            if i not in visit_f:\n",
        "                visit_f.append(i)\n",
        "                top_f=top_f+1\n",
        "                if i in visit_b:\n",
        "                    return i\n",
        "            else:\n",
        "                k=bfs_b()\n",
        "                if(k==-1):\n",
        "                    return k\n",
        "        front_f=front_f+1\n",
        "    return -1\n",
        "\n",
        "def bfs_b():\n",
        "    global front_b,top_b;\n",
        "    while(front_b<=top_b):\n",
        "        s=visit_b[front_b]\n",
        "        for i in graph[s]:\n",
        "            if i not in visit_b:\n",
        "                visit_b.append(i)\n",
        "                top_b=top_b+1\n",
        "                if i in visit_f:\n",
        "                    return i\n",
        "            else:\n",
        "                k=bfs_f()\n",
        "                if(k==-1):\n",
        "                    return k\n",
        "        front_b=front_b+1\n",
        "    return -1\n",
        "\n",
        "def remove(l,g):\n",
        "    a=l.index(g)\n",
        "    for i in range(a,0,-1):\n",
        "        if[l[i],l[i-1]] not in edges and [l[i-1],l[i]] not in edges:\n",
        "            l.remove(l[i-1])\n",
        "            a=l.index(g)\n",
        "    return a\n",
        "\n",
        "g=bfs_f()\n",
        "if(g==-1):\n",
        "    print(\"no intersection\")\n",
        "else:\n",
        "    print(\"intersection node is\",g)\n",
        "    a=remove(visit_f,g)\n",
        "    b=remove(visit_b,g)\n",
        "    k=visit_f[:a]+visit_b[b::-1]\n",
        "    print(\"path:\",k)\n",
        "#enter edges[[1,2],[1,5],[2,3],[2,4],[3,8],[3,9],[5,6],[5,7],[7,10],[7,11]]"
      ]
    },
    {
      "cell_type": "markdown",
      "source": [
        "# Best first search"
      ],
      "metadata": {
        "id": "nPWBLEov74AG"
      }
    },
    {
      "cell_type": "code",
      "source": [
        "def greedy(x):\n",
        "    return x[1]\n",
        "q=[]\n",
        "def best_first(graph,node,goal):\n",
        "    visited=[]\n",
        "    queue=[]\n",
        "    visited.append((node,h[node]))\n",
        "    queue.append((node,h[node]))\n",
        "    while queue:\n",
        "        t=queue.pop(0)\n",
        "        q.append(t)\n",
        "        print(t,end=\" \")\n",
        "        if(t[0]==goal):\n",
        "            print(\"\\n found\")\n",
        "            return\n",
        "        for n in graph [t[0]]:\n",
        "            if(n,h[n]) not in visited:\n",
        "                visited.append((n,h[n]))\n",
        "                queue.append((n,h[n]))\n",
        "                queue.sort(key=greedy)\n",
        "graph={'a':['b','c'],'b':['d','e','f'],'c':['g','h','i','j'],'h':['c','i']}\n",
        "h={'a':8,'b':10,'c':4,'d':15,'e':14,'f':12,'g':7,'h':2,'i':0,'j':4}\n",
        "pc={'a':{'b':1,'c':2},'b':{'d':7,'e':9,'f':5},'c':{'g':4,'h':3,'i':6,'j':8},'h':{'c':3,'j':1}}\n",
        "best_first(graph,'a','i')\n",
        "pcost=0\n",
        "for i in range(len(q)-1):\n",
        "    pcost+=pc[q[i][0]][q[i+1][0]]\n",
        "print(\"path cost is:\",pcost)"
      ],
      "metadata": {
        "id": "kdtA2HsNJzPE",
        "colab": {
          "base_uri": "https://localhost:8080/"
        },
        "outputId": "1ef2de9b-7329-4589-bfcf-bd5399de32b0"
      },
      "execution_count": null,
      "outputs": [
        {
          "output_type": "stream",
          "name": "stdout",
          "text": [
            "('a', 8) ('c', 4) ('i', 0) \n",
            " found\n",
            "path cost is: 8\n"
          ]
        }
      ]
    },
    {
      "cell_type": "markdown",
      "source": [
        "# Missionaries and cannibals"
      ],
      "metadata": {
        "id": "lZIbhyQU0Z6I"
      }
    },
    {
      "cell_type": "code",
      "source": [
        "from collections import deque\n",
        "def is_valid_state(state):\n",
        "    m_left, c_left, m_right, c_right, boat = state\n",
        "    if (m_left < 0 or c_left < 0 or m_right < 0 or c_right < 0 or\n",
        "            (m_left != 0 and m_left < c_left) or\n",
        "            (m_right != 0 and m_right < c_right)):\n",
        "        return False\n",
        "    return True\n",
        "def generate_next_states(state):\n",
        "    m_left, c_left, m_right, c_right, boat = state\n",
        "    possible_states = []\n",
        "\n",
        "    if boat == 'left':\n",
        "        for m in range(3):\n",
        "            for c in range(3):\n",
        "                if m + c > 2 or m + c == 0:\n",
        "                    continue\n",
        "                new_state = (m_left - m, c_left - c, m_right + m, c_right + c, 'right')\n",
        "                if is_valid_state(new_state):\n",
        "                    possible_states.append(new_state)\n",
        "    else:\n",
        "        for m in range(3):\n",
        "            for c in range(3):\n",
        "                if m + c > 2 or m + c == 0:\n",
        "                    continue\n",
        "                new_state = (m_left + m, c_left + c, m_right - m, c_right - c, 'left')\n",
        "                if is_valid_state(new_state):\n",
        "                    possible_states.append(new_state)\n",
        "\n",
        "    return possible_states\n",
        "def bfs(start_state, goal_state):\n",
        "    visited = set()\n",
        "    queue = deque([(start_state, [])])\n",
        "\n",
        "    while queue:\n",
        "        current_state, path = queue.popleft()\n",
        "        visited.add(current_state)\n",
        "\n",
        "        if current_state == goal_state:\n",
        "            return path\n",
        "\n",
        "        for next_state in generate_next_states(current_state):\n",
        "            if next_state not in visited:\n",
        "                queue.append((next_state, path + [next_state]))\n",
        "                visited.add(next_state)\n",
        "\n",
        "    return []\n",
        "def dfs(current_state, goal_state, path, visited):\n",
        "    visited.add(current_state)\n",
        "\n",
        "    if current_state == goal_state:\n",
        "        return path\n",
        "\n",
        "    for next_state in generate_next_states(current_state):\n",
        "        if next_state not in visited:\n",
        "            solution = dfs(next_state, goal_state, path + [next_state], visited)\n",
        "            if solution:\n",
        "                return solution\n",
        "\n",
        "    return None\n",
        "start_state = (3, 3, 0, 0, 'left')\n",
        "goal_state = (0, 0, 3, 3, 'right')\n",
        "visited = set()\n",
        "\n",
        "\n",
        "start_state = (3, 3, 0, 0, 'left')\n",
        "goal_state = (0, 0, 3, 3, 'right')\n",
        "print(\"bfs solution:\")\n",
        "solution = bfs(start_state, goal_state)\n",
        "#print(solution)\n",
        "if solution:\n",
        "    for i, state in enumerate(solution):\n",
        "        print(f\"Step {i+1}: {state}\")\n",
        "else:\n",
        "    print(\"No solution found.\")\n",
        "print()\n",
        "print(\"dfs solution:\")\n",
        "solution = dfs(start_state, goal_state, [start_state], visited)\n",
        "if solution:\n",
        "    for i, state in enumerate(solution):\n",
        "        print(f\"Step {i+1}: {state}\")\n",
        "else:\n",
        "    print(\"No solution found.\")"
      ],
      "metadata": {
        "colab": {
          "base_uri": "https://localhost:8080/"
        },
        "id": "pVX16W58xjtv",
        "outputId": "37f67d61-e9a0-4d32-aecb-a2f49fd5be5e"
      },
      "execution_count": null,
      "outputs": [
        {
          "output_type": "stream",
          "name": "stdout",
          "text": [
            "bfs solution:\n",
            "[(3, 1, 0, 2, 'right'), (3, 2, 0, 1, 'left'), (3, 0, 0, 3, 'right'), (3, 1, 0, 2, 'left'), (1, 1, 2, 2, 'right'), (2, 2, 1, 1, 'left'), (0, 2, 3, 1, 'right'), (0, 3, 3, 0, 'left'), (0, 1, 3, 2, 'right'), (0, 2, 3, 1, 'left'), (0, 0, 3, 3, 'right')]\n",
            "Step 1: (3, 1, 0, 2, 'right')\n",
            "Step 2: (3, 2, 0, 1, 'left')\n",
            "Step 3: (3, 0, 0, 3, 'right')\n",
            "Step 4: (3, 1, 0, 2, 'left')\n",
            "Step 5: (1, 1, 2, 2, 'right')\n",
            "Step 6: (2, 2, 1, 1, 'left')\n",
            "Step 7: (0, 2, 3, 1, 'right')\n",
            "Step 8: (0, 3, 3, 0, 'left')\n",
            "Step 9: (0, 1, 3, 2, 'right')\n",
            "Step 10: (0, 2, 3, 1, 'left')\n",
            "Step 11: (0, 0, 3, 3, 'right')\n",
            "\n",
            "dfs solution:\n",
            "Step 1: (3, 3, 0, 0, 'left')\n",
            "Step 2: (3, 1, 0, 2, 'right')\n",
            "Step 3: (3, 2, 0, 1, 'left')\n",
            "Step 4: (3, 0, 0, 3, 'right')\n",
            "Step 5: (3, 1, 0, 2, 'left')\n",
            "Step 6: (1, 1, 2, 2, 'right')\n",
            "Step 7: (2, 2, 1, 1, 'left')\n",
            "Step 8: (0, 2, 3, 1, 'right')\n",
            "Step 9: (0, 3, 3, 0, 'left')\n",
            "Step 10: (0, 1, 3, 2, 'right')\n",
            "Step 11: (0, 2, 3, 1, 'left')\n",
            "Step 12: (0, 0, 3, 3, 'right')\n"
          ]
        }
      ]
    },
    {
      "cell_type": "markdown",
      "source": [
        "# Crypt arithmetic problems.    "
      ],
      "metadata": {
        "id": "gotKybEv4bd1"
      }
    },
    {
      "cell_type": "code",
      "source": [
        "import itertools\n",
        "def get_value(word, substitution):\n",
        "    s = 0\n",
        "    factor = 1\n",
        "    for letter in reversed(word):\n",
        "        s += factor * substitution[letter]\n",
        "        factor *= 10\n",
        "    return s\n",
        "def solve2(equation):\n",
        "    left, right = equation.lower().replace(' ', '').split('=')\n",
        "    left = left.split('+')\n",
        "    letters = set(right)\n",
        "    for word in left:\n",
        "        for letter in word:\n",
        "            letters.add(letter)\n",
        "    letters = list(letters)\n",
        "    digits = range(10)\n",
        "    for perm in itertools.permutations(digits, len(letters)):\n",
        "        sol = dict(zip(letters, perm))\n",
        "        if sum(get_value(word, sol) for word in left) == get_value(right, sol):\n",
        "            print(' + '.join(str(get_value(word, sol)) for word in left) + \" = {} (mapping: {})\".format(get_value(right, sol), sol))\n",
        "solve2('SEND + MORE = MONEY')"
      ],
      "metadata": {
        "colab": {
          "base_uri": "https://localhost:8080/"
        },
        "id": "WmVdeR5X4IXt",
        "outputId": "32dd52f7-4eec-4ebc-9bff-7458f1449a08"
      },
      "execution_count": null,
      "outputs": [
        {
          "output_type": "stream",
          "name": "stdout",
          "text": [
            "7429 + 814 = 8243 (mapping: {'r': 1, 'o': 8, 'd': 9, 'e': 4, 'y': 3, 'n': 2, 'm': 0, 's': 7})\n",
            "7539 + 815 = 8354 (mapping: {'r': 1, 'o': 8, 'd': 9, 'e': 5, 'y': 4, 'n': 3, 'm': 0, 's': 7})\n",
            "7649 + 816 = 8465 (mapping: {'r': 1, 'o': 8, 'd': 9, 'e': 6, 'y': 5, 'n': 4, 'm': 0, 's': 7})\n",
            "8432 + 914 = 9346 (mapping: {'r': 1, 'o': 9, 'd': 2, 'e': 4, 'y': 6, 'n': 3, 'm': 0, 's': 8})\n",
            "8542 + 915 = 9457 (mapping: {'r': 1, 'o': 9, 'd': 2, 'e': 5, 'y': 7, 'n': 4, 'm': 0, 's': 8})\n",
            "8324 + 913 = 9237 (mapping: {'r': 1, 'o': 9, 'd': 4, 'e': 3, 'y': 7, 'n': 2, 'm': 0, 's': 8})\n",
            "6853 + 728 = 7581 (mapping: {'r': 2, 'o': 7, 'd': 3, 'e': 8, 'y': 1, 'n': 5, 'm': 0, 's': 6})\n",
            "6419 + 724 = 7143 (mapping: {'r': 2, 'o': 7, 'd': 9, 'e': 4, 'y': 3, 'n': 1, 'm': 0, 's': 6})\n",
            "7531 + 825 = 8356 (mapping: {'r': 2, 'o': 8, 'd': 1, 'e': 5, 'y': 6, 'n': 3, 'm': 0, 's': 7})\n",
            "7643 + 826 = 8469 (mapping: {'r': 2, 'o': 8, 'd': 3, 'e': 6, 'y': 9, 'n': 4, 'm': 0, 's': 7})\n",
            "7534 + 825 = 8359 (mapping: {'r': 2, 'o': 8, 'd': 4, 'e': 5, 'y': 9, 'n': 3, 'm': 0, 's': 7})\n",
            "7316 + 823 = 8139 (mapping: {'r': 2, 'o': 8, 'd': 6, 'e': 3, 'y': 9, 'n': 1, 'm': 0, 's': 7})\n",
            "5849 + 638 = 6487 (mapping: {'r': 3, 'o': 6, 'd': 9, 'e': 8, 'y': 7, 'n': 4, 'm': 0, 's': 5})\n",
            "6851 + 738 = 7589 (mapping: {'r': 3, 'o': 7, 'd': 1, 'e': 8, 'y': 9, 'n': 5, 'm': 0, 's': 6})\n",
            "6524 + 735 = 7259 (mapping: {'r': 3, 'o': 7, 'd': 4, 'e': 5, 'y': 9, 'n': 2, 'm': 0, 's': 6})\n",
            "6415 + 734 = 7149 (mapping: {'r': 3, 'o': 7, 'd': 5, 'e': 4, 'y': 9, 'n': 1, 'm': 0, 's': 6})\n",
            "5731 + 647 = 6378 (mapping: {'r': 4, 'o': 6, 'd': 1, 'e': 7, 'y': 8, 'n': 3, 'm': 0, 's': 5})\n",
            "5732 + 647 = 6379 (mapping: {'r': 4, 'o': 6, 'd': 2, 'e': 7, 'y': 9, 'n': 3, 'm': 0, 's': 5})\n",
            "3719 + 457 = 4176 (mapping: {'r': 5, 'o': 4, 'd': 9, 'e': 7, 'y': 6, 'n': 1, 'm': 0, 's': 3})\n",
            "3829 + 458 = 4287 (mapping: {'r': 5, 'o': 4, 'd': 9, 'e': 8, 'y': 7, 'n': 2, 'm': 0, 's': 3})\n",
            "2817 + 368 = 3185 (mapping: {'r': 6, 'o': 3, 'd': 7, 'e': 8, 'y': 5, 'n': 1, 'm': 0, 's': 2})\n",
            "2819 + 368 = 3187 (mapping: {'r': 6, 'o': 3, 'd': 9, 'e': 8, 'y': 7, 'n': 1, 'm': 0, 's': 2})\n",
            "3821 + 468 = 4289 (mapping: {'r': 6, 'o': 4, 'd': 1, 'e': 8, 'y': 9, 'n': 2, 'm': 0, 's': 3})\n",
            "3712 + 467 = 4179 (mapping: {'r': 6, 'o': 4, 'd': 2, 'e': 7, 'y': 9, 'n': 1, 'm': 0, 's': 3})\n",
            "9567 + 1085 = 10652 (mapping: {'r': 8, 'o': 0, 'd': 7, 'e': 5, 'y': 2, 'n': 6, 'm': 1, 's': 9})\n"
          ]
        }
      ]
    },
    {
      "cell_type": "markdown",
      "source": [
        "# 8 puzzle problem using A*"
      ],
      "metadata": {
        "id": "lr7Wjidz58qf"
      }
    },
    {
      "cell_type": "code",
      "source": [
        "#8-puzzle problem using A* algorithm\n",
        "class Node:\n",
        "    def __init__(self,data,level,fval):\n",
        "        self.data = data\n",
        "        self.level = level\n",
        "        self.fval = fval\n",
        "    def generate_child(self):\n",
        "        x,y = self.find(self.data,'_')\n",
        "        val_list = [[x,y-1],[x,y+1],[x-1,y],[x+1,y]]\n",
        "        children = []\n",
        "        for i in val_list:\n",
        "            child = self.shuffle(self.data,x,y,i[0],i[1])\n",
        "            if child is not None:\n",
        "                child_node = Node(child,self.level+1,0)\n",
        "                children.append(child_node)\n",
        "        return children\n",
        "    def shuffle(self,puz,x1,y1,x2,y2):\n",
        "        if x2 >= 0 and x2 < len(self.data) and y2 >= 0 and y2 < len(self.data):\n",
        "            temp_puz = []\n",
        "            temp_puz = self.copy(puz)\n",
        "            temp = temp_puz[x2][y2]\n",
        "            temp_puz[x2][y2] = temp_puz[x1][y1]\n",
        "            temp_puz[x1][y1] = temp\n",
        "            return temp_puz\n",
        "        else:\n",
        "            return None\n",
        "    def copy(self,root):\n",
        "        temp = []\n",
        "        for i in root:\n",
        "            t = []\n",
        "            for j in i:\n",
        "                t.append(j)\n",
        "            temp.append(t)\n",
        "        return temp\n",
        "    def find(self,puz,x):\n",
        "\n",
        "        for i in range(0,len(self.data)):\n",
        "            for j in range(0,len(self.data)):\n",
        "                if puz[i][j] == x:\n",
        "                    return i,j\n",
        "class Puzzle:\n",
        "    def __init__(self,size):\n",
        "        self.n = size\n",
        "        self.open = []\n",
        "        self.closed = []\n",
        "    def accept(self):\n",
        "        puz = []\n",
        "        for i in range(0,self.n):\n",
        "            temp = input().split(\" \")\n",
        "            puz.append(temp)\n",
        "        return puz\n",
        "    def f(self,start,goal):\n",
        "        return self.h(start.data,goal)+start.level\n",
        "    def h(self,start,goal):\n",
        "        temp = 0\n",
        "        for i in range(0,self.n):\n",
        "            for j in range(0,self.n):\n",
        "                if start[i][j] != goal[i][j] and start[i][j] != '_':\n",
        "                    temp += 1\n",
        "        return temp\n",
        "    def process(self):\n",
        "        print(\"Enter the start state matrix \\n\")\n",
        "        start = self.accept()\n",
        "        print(\"Enter the goal state matrix \\n\")\n",
        "        goal = self.accept()\n",
        "        start = Node(start,0,0)\n",
        "        start.fval = self.f(start,goal)\n",
        "        self.open.append(start)\n",
        "        print(\"\\n\")\n",
        "        while True:\n",
        "            cur = self.open[0]\n",
        "            print(\"\\n\")\n",
        "            for i in cur.data:\n",
        "                for j in i:\n",
        "                    print(j,end=\" \")\n",
        "                print(\"\")\n",
        "            if(self.h(cur.data,goal) == 0):\n",
        "                break\n",
        "            for i in cur.generate_child():\n",
        "                i.fval = self.f(i,goal)\n",
        "                self.open.append(i)\n",
        "            self.closed.append(cur)\n",
        "            del self.open[0]\n",
        "            self.open.sort(key = lambda x:x.fval,reverse=False)\n",
        "puz = Puzzle(3)\n",
        "puz.process()"
      ],
      "metadata": {
        "colab": {
          "base_uri": "https://localhost:8080/"
        },
        "id": "vyTBygML57GH",
        "outputId": "81f73131-a0b3-4440-ca2a-f22a5ad4cf87"
      },
      "execution_count": null,
      "outputs": [
        {
          "output_type": "stream",
          "name": "stdout",
          "text": [
            "Enter the start state matrix \n",
            "\n",
            "1 2 3\n",
            "_ 4 6\n",
            "7 5 8\n",
            "Enter the goal state matrix \n",
            "\n",
            "1 2 3\n",
            "4 5 6\n",
            "7 8 _\n",
            "\n",
            "\n",
            "\n",
            "\n",
            "1 2 3 \n",
            "_ 4 6 \n",
            "7 5 8 \n",
            "\n",
            "\n",
            "1 2 3 \n",
            "4 _ 6 \n",
            "7 5 8 \n",
            "\n",
            "\n",
            "1 2 3 \n",
            "4 5 6 \n",
            "7 _ 8 \n",
            "\n",
            "\n",
            "1 2 3 \n",
            "4 5 6 \n",
            "7 8 _ \n"
          ]
        }
      ]
    },
    {
      "cell_type": "markdown",
      "source": [
        "# **Water jug **"
      ],
      "metadata": {
        "id": "US4dEw426702"
      }
    },
    {
      "cell_type": "code",
      "source": [
        "jug1=int(input(\"Enter capacity of jug1:\"))\n",
        "jug2=int(input(\"Enter capacity of jug2:\"))\n",
        "target=int(input(\"Enter target capacity:\"))\n",
        "def rules(x,y,choice):\n",
        "  if(choice==1):\n",
        "    if(x<jug1):\n",
        "      return jug1,y\n",
        "    else:\n",
        "      return x,y\n",
        "  if(choice==2):\n",
        "    if(y<jug2):\n",
        "      return x,jug2\n",
        "    else:\n",
        "      return x,y\n",
        "  if(choice==3):\n",
        "    if(x>0):\n",
        "      return 0,y\n",
        "    else:\n",
        "      return x,y\n",
        "  if(choice==4):\n",
        "    if(y>0):\n",
        "      return x,0\n",
        "    else:\n",
        "      return x,y\n",
        "  if(choice==5):\n",
        "    if((x+y)>=3 and x>0):\n",
        "      return (x-(3-y)),3\n",
        "    else:\n",
        "      return x,y\n",
        "  if(choice==6):\n",
        "    if((x+y)>=5 and y>0):\n",
        "      return 5,(y-(5-x))\n",
        "    else:\n",
        "      return x,y\n",
        "  if(choice==7):\n",
        "    if(x>0 and (x+y)<=3):\n",
        "      return 0,x+y\n",
        "    else:\n",
        "      return x,y\n",
        "  if(choice==8):\n",
        "    if(y>0 and (x+y)<=5):\n",
        "      return x+y,0\n",
        "    else:\n",
        "      return x,y\n",
        "  else:\n",
        "    print(\"Invalid choice\")"
      ],
      "metadata": {
        "colab": {
          "base_uri": "https://localhost:8080/"
        },
        "id": "EE6-kU5m6-7O",
        "outputId": "227f5fbd-6330-4976-b5e6-0af90729ece5"
      },
      "execution_count": null,
      "outputs": [
        {
          "name": "stdout",
          "output_type": "stream",
          "text": [
            "Enter capacity of jug1:5\n",
            "Enter capacity of jug2:3\n",
            "Enter target capacity:4\n"
          ]
        }
      ]
    },
    {
      "cell_type": "code",
      "source": [
        "def bfs(choice_list,start,goal):\n",
        "  queue=[]\n",
        "  visited=[]\n",
        "  if(start[0]==goal or start[1]==goal):\n",
        "    visited.append(start)\n",
        "    return visited\n",
        "  queue.append(start)\n",
        "  while(queue):\n",
        "    t=queue.pop(0)\n",
        "    visited.append(t)\n",
        "    if(t[0]==goal or t[1]==goal):\n",
        "      return visited\n",
        "    for i in choice_list:\n",
        "      r=list(rules(t[0],t[1],i))\n",
        "      if(r[0]==goal or r[1]==goal):\n",
        "        visited.append(r)\n",
        "        return visited\n",
        "      elif(r not in visited):\n",
        "        queue.append(r)\n",
        "choice_list=[1,2,3,4,5,6,7,8]\n",
        "start=[0,0]\n",
        "v=bfs(choice_list,start,target)\n",
        "for i in v:\n",
        "  print(i,end=\" \")"
      ],
      "metadata": {
        "colab": {
          "base_uri": "https://localhost:8080/"
        },
        "id": "obiXuYIT7Cqe",
        "outputId": "30047af2-468a-4fe5-ace4-7c081cb26de0"
      },
      "execution_count": null,
      "outputs": [
        {
          "output_type": "stream",
          "name": "stdout",
          "text": [
            "[0, 0] [5, 0] [0, 3] [5, 3] [2, 3] [5, 3] [3, 0] [2, 0] [3, 3] [0, 2] [5, 1] [5, 2] [4, 3] "
          ]
        }
      ]
    },
    {
      "cell_type": "code",
      "source": [
        "def dfs(choice_list,start,goal):\n",
        "  queue=[]\n",
        "  visited=[]\n",
        "  if(start[0]==goal or start[1]==goal):\n",
        "    visited.append(start)\n",
        "    return visited\n",
        "  queue.append(start)\n",
        "  while(queue):\n",
        "    t=queue.pop()\n",
        "    visited.append(t)\n",
        "    if(t[0]==goal or t[1]==goal):\n",
        "      return visited\n",
        "    for i in choice_list:\n",
        "      r=list(rules(t[0],t[1],i))\n",
        "      if(r[0]==goal or r[1]==goal):\n",
        "        visited.append(r)\n",
        "        return visited\n",
        "      elif(r not in visited):\n",
        "        queue.append(r)\n",
        "choice_list=[1,2,3,4,5,6,7,8]\n",
        "start=[0,0]\n",
        "v2=dfs(choice_list,start,target)\n",
        "for i in v:\n",
        "  print(i,end=\" \")"
      ],
      "metadata": {
        "colab": {
          "base_uri": "https://localhost:8080/"
        },
        "id": "XEIinAf27KD_",
        "outputId": "192bca3b-5714-4f66-cbc6-eee0ad53c7a7"
      },
      "execution_count": null,
      "outputs": [
        {
          "output_type": "stream",
          "name": "stdout",
          "text": [
            "[0, 0] [5, 0] [0, 3] [5, 3] [2, 3] [5, 3] [3, 0] [2, 0] [3, 3] [0, 2] [5, 1] [5, 2] [4, 3] "
          ]
        }
      ]
    },
    {
      "cell_type": "markdown",
      "source": [
        "# A* ALGORITHM"
      ],
      "metadata": {
        "id": "NPYMnNvB81G5"
      }
    },
    {
      "cell_type": "code",
      "source": [
        "def second(x):\n",
        "    return x[1]\n",
        "q=[]\n",
        "def a(graph,node,goal,pc):\n",
        "    visited=[]\n",
        "    queue=[]\n",
        "    visited.append((node,h[node]))\n",
        "    queue.append((node,h[node]))\n",
        "    while queue:\n",
        "        t=queue.pop(0)\n",
        "        q.append(t)\n",
        "        print(t, end=\" \")\n",
        "        if t[0]==goal:\n",
        "            print(\"\\nfound\")\n",
        "            return\n",
        "        for neighbor in graph[t[0]]:\n",
        "            k=pc[t[0]][neighbor]+h[neighbor]\n",
        "            if (neighbor,k) not in visited:\n",
        "                visited.append((neighbor,k))\n",
        "                queue.append((neighbor,k))\n",
        "        queue.sort(key=second)\n",
        "\n",
        "if __name__ == '__main__':\n",
        "    graph = {'A': [\"B\", \"C\"], 'B': [\"D\", \"E\", \"F\"], 'C': ['G', 'H', 'I', 'J'], \"H\": ['C', 'I']}\n",
        "    h = {'A': 8, 'B': 10, 'C': 4, 'D': 15, 'E': 14, 'F': 12, 'G': 7, \"H\": 2, 'I': 0, 'J': 4}\n",
        "    pc = {'A': {\"B\": 1, \"C\": 2}, 'B': {\"D\": 7, \"E\": 9, \"F\": 5}, 'C': {'G': 4, 'H': 3, 'I': 6, 'J': 8}, \"H\": {'C': 3, 'I': 1}}\n",
        "    a(graph, 'A', 'I', pc)\n",
        "    pcost = 0\n",
        "    for i in range(len(q) - 1):\n",
        "        pcost += pc[q[i][0]][q[i + 1][0]]\n",
        "    print(\"path cost is\", pcost)"
      ],
      "metadata": {
        "colab": {
          "base_uri": "https://localhost:8080/"
        },
        "id": "RBePyhfG8aw3",
        "outputId": "8d9c4bd8-0626-445d-c26b-ec862b673e0c"
      },
      "execution_count": null,
      "outputs": [
        {
          "output_type": "stream",
          "name": "stdout",
          "text": [
            "('A', 8) ('C', 6) ('H', 5) ('I', 1) \n",
            "found\n",
            "path cost is 6\n"
          ]
        }
      ]
    },
    {
      "cell_type": "code",
      "source": [
        "def Cost(H, condition, weight = 1):\n",
        "    cost = {}\n",
        "    if 'AND' in condition:\n",
        "        AND_nodes = condition['AND']\n",
        "        Path_A = ' AND '.join(AND_nodes)\n",
        "        PathA = sum(H[node]+weight for node in AND_nodes)\n",
        "        cost[Path_A] = PathA\n",
        "\n",
        "    if 'OR' in condition:\n",
        "        OR_nodes = condition['OR']\n",
        "        Path_B =' OR '.join(OR_nodes)\n",
        "        PathB = min(H[node]+weight for node in OR_nodes)\n",
        "        cost[Path_B] = PathB\n",
        "    return cost\n",
        "\n",
        "# Update the cost\n",
        "def update_cost(H, Conditions, weight=1):\n",
        "    Main_nodes = list(Conditions.keys())\n",
        "    Main_nodes.reverse()\n",
        "    least_cost= {}\n",
        "    for key in Main_nodes:\n",
        "        condition = Conditions[key]\n",
        "        print(key,':', Conditions[key],'>>>', Cost(H, condition, weight))\n",
        "        c = Cost(H, condition, weight)\n",
        "        H[key] = min(c.values())\n",
        "        least_cost[key] = Cost(H, condition, weight)\n",
        "    return least_cost\n",
        "\n",
        "# Print the shortest path\n",
        "def shortest_path(Start,Updated_cost, H):\n",
        "    Path = Start\n",
        "    if Start in Updated_cost.keys():\n",
        "        Min_cost = min(Updated_cost[Start].values())\n",
        "        key = list(Updated_cost[Start].keys())\n",
        "        values = list(Updated_cost[Start].values())\n",
        "        Index = values.index(Min_cost)\n",
        "\n",
        "        # FIND MINIMIMUM PATH KEY\n",
        "        Next = key[Index].split()\n",
        "        # ADD TO PATH FOR OR PATH\n",
        "        if len(Next) == 1:\n",
        "\n",
        "            Start =Next[0]\n",
        "            Path += '<--' +shortest_path(Start, Updated_cost, H)\n",
        "        # ADD TO PATH FOR AND PATH\n",
        "        else:\n",
        "            Path +='<--('+key[Index]+') '\n",
        "\n",
        "            Start = Next[0]\n",
        "            Path += '[' +shortest_path(Start, Updated_cost, H) + ' + '\n",
        "\n",
        "            Start = Next[-1]\n",
        "            Path +=  shortest_path(Start, Updated_cost, H) + ']'\n",
        "\n",
        "    return Path\n",
        "\n",
        "\n",
        "\n",
        "H = {'A': -1, 'B': 5, 'C': 2, 'D': 4, 'E': 7, 'F': 9, 'G': 3, 'H': 0, 'I':0, 'J':0}\n",
        "\n",
        "Conditions = {\n",
        " 'A': {'OR': ['B'], 'AND': ['C', 'D']},\n",
        " 'B': {'OR': ['E', 'F']},\n",
        " 'C': {'OR': ['G'], 'AND': ['H', 'I']},\n",
        " 'D': {'OR': ['J']}\n",
        "}\n",
        "# weight\n",
        "weight = 1\n",
        "# Updated cost\n",
        "print('Updated Cost :')\n",
        "Updated_cost = update_cost(H, Conditions, weight=1)\n",
        "print('*'*75)\n",
        "print('Shortest Path :\\n',shortest_path('A', Updated_cost,H))"
      ],
      "metadata": {
        "colab": {
          "base_uri": "https://localhost:8080/"
        },
        "id": "2jTnv68TKTgl",
        "outputId": "7102c007-60d4-448e-eb9f-18f0f1bcef5d"
      },
      "execution_count": null,
      "outputs": [
        {
          "output_type": "stream",
          "name": "stdout",
          "text": [
            "Updated Cost :\n",
            "D : {'OR': ['J']} >>> {'J': 1}\n",
            "C : {'OR': ['G'], 'AND': ['H', 'I']} >>> {'H AND I': 2, 'G': 4}\n",
            "B : {'OR': ['E', 'F']} >>> {'E OR F': 8}\n",
            "A : {'OR': ['B'], 'AND': ['C', 'D']} >>> {'C AND D': 5, 'B': 9}\n",
            "***************************************************************************\n",
            "Shortest Path :\n",
            " A<--(C AND D) [C<--(H AND I) [H + I] + D<--J]\n"
          ]
        }
      ]
    },
    {
      "cell_type": "markdown",
      "source": [
        "# vaccum world"
      ],
      "metadata": {
        "id": "M4GlReCTQ30e"
      }
    },
    {
      "cell_type": "code",
      "source": [
        "def vacuum(room1,room2,vacuum_location):\n",
        "\n",
        "  visited.append([room1,room2,vacuum_location])\n",
        "\n",
        "  if room1=='clean' and room2=='clean':\n",
        "    return 1\n",
        "\n",
        "  if vacuum_location=='left':\n",
        "    if room1=='dirt' and ['clean',room2,vacuum_location] not in visited and vacuum('clean',room2,vacuum_location):\n",
        "      return 1\n",
        "    if [room1,room2,'right'] not in visited and vacuum(room1,room2,'right'):\n",
        "      return 1\n",
        "  else:\n",
        "    if room2=='dirt' and [room1,'clean',vacuum_location] not in visited and vacuum(room1,'clean',vacuum_location):\n",
        "      return 1\n",
        "    if [room1,room2,'left'] not in visited and vacuum(room1,room2,'left'):\n",
        "      return 1\n",
        "\n",
        "  return 0\n",
        "\n",
        "\n",
        "visited=[]\n",
        "room1,room2,vacuum_location=input('Enter initial state of vacuum problem: ').split()\n",
        "if vacuum(room1,room2,vacuum_location):\n",
        "  print('DFS traversal of states')\n",
        "  print(visited)\n",
        "else:\n",
        "  print('Cannot be solved')"
      ],
      "metadata": {
        "colab": {
          "base_uri": "https://localhost:8080/"
        },
        "id": "uevHk9QyPrkL",
        "outputId": "54cb3036-93cc-4028-8c0e-67ef012f764b"
      },
      "execution_count": null,
      "outputs": [
        {
          "output_type": "stream",
          "name": "stdout",
          "text": [
            "Enter initial state of vacuum problem: dirt dirt left\n",
            "DFS traversal of states\n",
            "[['dirt', 'dirt', 'left'], ['clean', 'dirt', 'left'], ['clean', 'dirt', 'right'], ['clean', 'clean', 'right']]\n"
          ]
        }
      ]
    },
    {
      "cell_type": "code",
      "source": [
        "room1,room2,vacuum_location=input('Enter initial state of vacuum problem: ').split()\n",
        "visited=[[room1,room2,vacuum_location]]\n",
        "print('BFS Traversal of states:')\n",
        "front,top=0,0\n",
        "f=0\n",
        "\n",
        "def add(p,q,r):\n",
        "  global top\n",
        "  visited.append([p,q,r])\n",
        "  top+=1\n",
        "\n",
        "while front<=top:\n",
        "  room1,room2,vacuum_location=visited[front]\n",
        "\n",
        "  if room1=='clean' and room2=='clean':\n",
        "    f=1\n",
        "    break\n",
        "\n",
        "  if vacuum_location=='left':\n",
        "    if room1=='dirt' and ['clean',room2,vacuum_location] not in visited:\n",
        "      add('clean',room2,vacuum_location)\n",
        "    if [room1,room2,'right'] not in visited:\n",
        "      add(room1,room2,'right')\n",
        "  else:\n",
        "    if room2=='dirt' and [room1,'clean',vacuum_location] not in visited:\n",
        "      add(room1,'clean',vacuum_location)\n",
        "    if [room1,room2,'left'] not in visited:\n",
        "      add(room1,room2,'left')\n",
        "\n",
        "  front+=1\n",
        "\n",
        "\n",
        "if f==1:\n",
        "  print(visited[:front+1])\n",
        "else:\n",
        "  print('No solution')"
      ],
      "metadata": {
        "colab": {
          "base_uri": "https://localhost:8080/"
        },
        "id": "LSO0j1htQAAR",
        "outputId": "c0eb803b-cd9d-420a-9e7e-9f75159cc9ee"
      },
      "execution_count": null,
      "outputs": [
        {
          "output_type": "stream",
          "name": "stdout",
          "text": [
            "Enter initial state of vacuum problem: clean dirt left\n",
            "BFS Traversal of states:\n",
            "[['clean', 'dirt', 'left'], ['clean', 'dirt', 'right'], ['clean', 'clean', 'right']]\n"
          ]
        }
      ]
    }
  ],
  "metadata": {
    "colab": {
      "provenance": [],
      "include_colab_link": true
    },
    "kernelspec": {
      "display_name": "Python 3",
      "name": "python3"
    },
    "language_info": {
      "name": "python"
    }
  },
  "nbformat": 4,
  "nbformat_minor": 0
}